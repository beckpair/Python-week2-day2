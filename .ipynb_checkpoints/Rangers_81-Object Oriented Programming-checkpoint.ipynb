{
 "cells": [
  {
   "cell_type": "markdown",
   "metadata": {},
   "source": [
    "# Object-Oriented-Programming (OOP)"
   ]
  },
  {
   "cell_type": "markdown",
   "metadata": {},
   "source": [
    "## Tasks Today:\n",
    "\n",
    "   \n",
    "\n",
    "1) <b>Creating a Class (Initializing/Declaring)</b> <br>\n",
    "2) <b>Using a Class (Instantiating)</b> <br>\n",
    " &nbsp;&nbsp;&nbsp;&nbsp; a) Creating One Instance <br>\n",
    " &nbsp;&nbsp;&nbsp;&nbsp; b) Creating Multiple Instances <br>\n",
    " &nbsp;&nbsp;&nbsp;&nbsp; c) In-Class Exercise #1 - Create a Class 'Car' and instantiate three different makes of cars <br>\n",
    "3) <b>The \\__init\\__() Method</b> <br>\n",
    " &nbsp;&nbsp;&nbsp;&nbsp; a) The 'self' Attribute <br>\n",
    "4) <b>Class Attributes</b> <br>\n",
    " &nbsp;&nbsp;&nbsp;&nbsp; a) Initializing Attributes <br>\n",
    " &nbsp;&nbsp;&nbsp;&nbsp; b) Setting an Attribute Outside of the \\__init\\__() Method <br>\n",
    " &nbsp;&nbsp;&nbsp;&nbsp; c) Setting Defaults for Attributes <br>\n",
    " &nbsp;&nbsp;&nbsp;&nbsp; d) Accessing Class Attributes <br>\n",
    " &nbsp;&nbsp;&nbsp;&nbsp; e) Changing Class Attributes <br>\n",
    " &nbsp;&nbsp;&nbsp;&nbsp; f) In-Class Exercise #2 - Add a color and wheels attribute to your 'Car' class <br>\n",
    "5) <b>Class Methods</b> <br>\n",
    " &nbsp;&nbsp;&nbsp;&nbsp; a) Creating <br>\n",
    " &nbsp;&nbsp;&nbsp;&nbsp; b) Calling <br>\n",
    " &nbsp;&nbsp;&nbsp;&nbsp; c) Modifying an Attribute's Value Through a Method <br>\n",
    " &nbsp;&nbsp;&nbsp;&nbsp; d) Incrementing an Attribute's Value Through a Method <br>\n",
    " &nbsp;&nbsp;&nbsp;&nbsp; e) In-Class Exercise #3 - Add a method that prints the cars color and wheel number, then call them <br>\n",
    "6) <b>Inheritance</b> <br>\n",
    " &nbsp;&nbsp;&nbsp;&nbsp; a) Syntax for Inheriting from a Parent Class <br>\n",
    " &nbsp;&nbsp;&nbsp;&nbsp; b) The \\__init\\__() Method for a Child Class (super()) <br>\n",
    " &nbsp;&nbsp;&nbsp;&nbsp; c) Defining Attributes and Methods for the Child Class <br>\n",
    " &nbsp;&nbsp;&nbsp;&nbsp; d) Method Overriding <br>\n",
    " &nbsp;&nbsp;&nbsp;&nbsp; e) In-Class Exercise #4 - Create a class 'Ford' that inherits from 'Car' class and initialize it as a Blue Ford Explorer with 4 wheels using the super() method <br>\n",
    "7) <b>Classes as Attributes</b> <br>\n",
    "8) <b>Exercises</b> <br>\n",
    " &nbsp;&nbsp;&nbsp;&nbsp; a) Exercise #1 - Turn the shopping cart program from last week into an object-oriented program <br>"
   ]
  },
  {
   "cell_type": "markdown",
   "metadata": {},
   "source": [
    "## Creating a Class (Initializing/Declaring)\n",
    "<p>When creating a class, function, or even a variable you are initializing that object. Initializing and Declaring occur at the same time in Python, whereas in lower level languages you have to declare an object before initializing it. This is the first step in the process of using a class.</p>"
   ]
  },
  {
   "cell_type": "code",
   "execution_count": null,
   "metadata": {},
   "outputs": [],
   "source": [
    "class Car():\n",
    "    wheels = 4\n",
    "    color = 'blue'\n",
    "    gas_tank = 15"
   ]
  },
  {
   "cell_type": "markdown",
   "metadata": {},
   "source": [
    "## Using a Class (Instantiating)\n",
    "<p>The process of creating a class is called <i>Instantiating</i>. Each time you create a variable of that type of class, it is referred to as an <i>Instance</i> of that class. This is the second step in the process of using a class.</p>"
   ]
  },
  {
   "cell_type": "markdown",
   "metadata": {},
   "source": [
    "##### Creating One Instance"
   ]
  },
  {
   "cell_type": "code",
   "execution_count": null,
   "metadata": {},
   "outputs": [],
   "source": [
    "ford = Car()\n"
   ]
  },
  {
   "cell_type": "markdown",
   "metadata": {},
   "source": [
    "##### Creating Multiple Instances"
   ]
  },
  {
   "cell_type": "code",
   "execution_count": null,
   "metadata": {},
   "outputs": [],
   "source": [
    "mazda = Car()\n",
    "chevy = Car()\n",
    "\n",
    "print(mazda.wheels)\n",
    "print(mazda.color)\n",
    "print(mazda.gas_tank)\n",
    "\n",
    "print(\"\\n\")\n",
    "\n",
    "print(chevy.wheels)\n",
    "print(chevy.color)\n",
    "print(chevy.gas_tank)\n",
    "\n",
    "print(\"\\n\")\n",
    "\n",
    "print(f\"This is a {chevy.color} chevy and it has {chevy.wheels} wheels.\")"
   ]
  },
  {
   "cell_type": "markdown",
   "metadata": {},
   "source": [
    "##### In-Class Exercise #1 - Create a Class 'Car' and Instantiate three different makes of cars"
   ]
  },
  {
   "cell_type": "code",
   "execution_count": null,
   "metadata": {},
   "outputs": [],
   "source": [
    "class Carz():\n",
    "    year = 2021\n",
    "    doors = \"4 door\"\n",
    "    color = \"white\"\n",
    "    \n",
    "dodge = Carz()\n",
    "jeep = Carz()\n",
    "subaru = Carz()\n",
    "\n",
    "print(f\"I really want a {jeep.color}, {jeep.doors} Jeep from {jeep.year}, I don't care about rollover risk, Dad.\")"
   ]
  },
  {
   "cell_type": "markdown",
   "metadata": {},
   "source": [
    "## The \\__init\\__() Method <br>\n",
    "<p>This method is used in almost every created class, and called only once upon the creation of the class instance. This method will initialize all variables needed for the object.</p>"
   ]
  },
  {
   "cell_type": "code",
   "execution_count": null,
   "metadata": {},
   "outputs": [],
   "source": [
    "class Car():\n",
    "    ENGINE = '4.7 L' # constants go in all caps\n",
    "    def __init__(self, wheels, color):\n",
    "        self.wheels = wheels\n",
    "        self.color = color\n",
    "\n",
    "mazda = Car(4, \"blue\")\n",
    "print(mazda.wheels)\n",
    "print(mazda.color)\n",
    "\n",
    "mazda.__dict__"
   ]
  },
  {
   "cell_type": "markdown",
   "metadata": {},
   "source": [
    "##### The 'self' Attribute <br>\n",
    "<p>This attribute is required to keep track of specific instance's attributes. Without the self attribute, the program would not know how to reference or keep track of an instance's attributes.</p>"
   ]
  },
  {
   "cell_type": "code",
   "execution_count": null,
   "metadata": {
    "scrolled": true
   },
   "outputs": [],
   "source": [
    "# see above\n",
    "\n",
    "class Pokemon():\n",
    "    def __init__(self, type_, weakness, strength, nature):\n",
    "        self.type_ = type_\n",
    "        self.weakness = weakness\n",
    "        self.strength = strength\n",
    "        self.nature = nature\n",
    "    \n",
    "charmander = Pokemon(\"fire\", [\"water\", \"rock\", \"ground\"], [\"grass\", \"bug\", \"ice\", \"steel\"], \"Adamant\")\n",
    "bulbasaur = Pokemon([\"grass\", \"poison\"], [\"fire\", \"flying\", \"ghost\", \"ice\"], [\"rock\", \"ground\", \"water\"], \"Adamant\")\n",
    "\n",
    "print(charmander.strength)\n",
    "print(bulbasaur.strength)"
   ]
  },
  {
   "cell_type": "code",
   "execution_count": null,
   "metadata": {},
   "outputs": [],
   "source": [
    "class Benders():\n",
    "    def __init__(self, nation, bender, gender):\n",
    "        self.nation = nation\n",
    "        self.bender = bender\n",
    "        self.gender = gender\n",
    "katara = Benders(\"Water Tribe\", \"Waterbender\", \"Woman\")\n",
    "zuko = Benders(\"Fire Nation\", \"Firebender\", \"Man\")\n",
    "sokka = Benders(\"Water Tribe\", \"Nonbender\", \"Man\")\n",
    "\n",
    "print(katara.nation)\n",
    "print(zuko.nation)"
   ]
  },
  {
   "cell_type": "markdown",
   "metadata": {},
   "source": [
    "## Class Attributes <br>\n",
    "<p>While variables are inside of a class, they are referred to as attributes and not variables. When someone says 'attribute' you know they're speaking about a class. Attributes can be initialized through the init method, or outside of it.</p>"
   ]
  },
  {
   "cell_type": "markdown",
   "metadata": {},
   "source": [
    "##### Initializing Attributes"
   ]
  },
  {
   "cell_type": "code",
   "execution_count": null,
   "metadata": {},
   "outputs": [],
   "source": [
    "# see above\n",
    "\n",
    "class Dessert():\n",
    "    def __init__(self, temp, type_, flavor, sweetness, serving):\n",
    "        self.temp = temp\n",
    "        self.type_ = type_\n",
    "        self.flavor = flavor\n",
    "        self.sweetness = sweetness\n",
    "        self.serving = serving\n"
   ]
  },
  {
   "cell_type": "markdown",
   "metadata": {},
   "source": [
    "##### Accessing Class Attributes"
   ]
  },
  {
   "cell_type": "code",
   "execution_count": null,
   "metadata": {
    "scrolled": true
   },
   "outputs": [],
   "source": [
    "tiramisu = Dessert(\"cold\", \"Italian\", \"coffee flavored\", \"medium\", \"large\")\n",
    "print(f\"I like tiramisu because it is {tiramisu.temp}, {tiramisu.type_}. and {tiramisu.flavor}. The sweetness is {tiramisu.sweetness} and I want a {tiramisu.serving} serving.\")"
   ]
  },
  {
   "cell_type": "markdown",
   "metadata": {},
   "source": [
    "##### Setting Defaults for Attributes"
   ]
  },
  {
   "cell_type": "code",
   "execution_count": null,
   "metadata": {},
   "outputs": [],
   "source": [
    "class Car():\n",
    "    ENGINE = '4.7 L' # constant attribute -- that is not likely to be changed\n",
    "    def __init__(self, wheels):\n",
    "        self.wheels = wheels\n",
    "        self.color = \"blue\" # Default attribute -- this can be changed at any time\n",
    "    \n",
    "lumina = Car(4)\n",
    "print(lumina.color)\n",
    "lumina.color = \"Turquoise\"\n",
    "print(lumina.color)"
   ]
  },
  {
   "cell_type": "code",
   "execution_count": null,
   "metadata": {},
   "outputs": [],
   "source": [
    "class Car():\n",
    "    ENGINE = '4.7 L' # constant attribute -- that is not likely to be changed\n",
    "    def __init__(self, wheels, color = \"blue\"):\n",
    "        self.wheels = wheels\n",
    "        self.color = color # Default attribute -- this can be changed at any time\n",
    "    \n",
    "mazda = Car(4)\n",
    "print(mazda.wheels)\n",
    "print(mazda.color)"
   ]
  },
  {
   "cell_type": "markdown",
   "metadata": {},
   "source": [
    "##### Changing Class Attributes <br>\n",
    "<p>Keep in mind there are global class attributes and then there are attributes only available to each class instance which won't effect other classes.</p>"
   ]
  },
  {
   "cell_type": "code",
   "execution_count": null,
   "metadata": {},
   "outputs": [],
   "source": [
    "class Car():\n",
    "    ENGINE = \"4.7 L\" # constant attribute - that is not likely to be changed\n",
    "    def __init__(self, wheels, color):\n",
    "        self.wheels = wheels\n",
    "        self.color = color \n",
    "\n",
    "beetle = Car(4, \"white\")\n",
    "print(\"Before attribute change:\")\n",
    "print(beetle.wheels)\n",
    "print(beetle.color)\n",
    "print(\"\\n\")\n",
    "print(\"After attribute change:\")\n",
    "beetle.wheels = 5\n",
    "beetle.color = \"yellow\"\n",
    "print(beetle.wheels)\n",
    "print(beetle.color)\n",
    "\n"
   ]
  },
  {
   "cell_type": "markdown",
   "metadata": {},
   "source": [
    "##### In-Class Exercise #2 - Add a doors and seats attribute to your 'Car' class then print out two different instances with different doors and seats"
   ]
  },
  {
   "cell_type": "code",
   "execution_count": null,
   "metadata": {},
   "outputs": [],
   "source": [
    "class Car():\n",
    "    ENGINE = \"4.7 L\" # constant attribute - that is not likely to be changed\n",
    "    def __init__(self, wheels, color):\n",
    "        self.wheels = wheels\n",
    "        self.color = color\n",
    "        self.doors = 4\n",
    "        self.seats = 23\n",
    "\n",
    "jeep = Car(4, \"white\")\n",
    "print(f\"My Jeep has {jeep.doors} doors and {jeep.seats} seats.\")\n",
    "print(\"Wait that doesn't sound right.\")\n",
    "jeep.seats = 5\n",
    "print(f\"Now my Jeep has {jeep.doors} doors and {jeep.seats} seats, which is way more reasonable.\")"
   ]
  },
  {
   "cell_type": "markdown",
   "metadata": {},
   "source": [
    "## Class Methods <br>\n",
    "<p>While inside of a class, functions are referred to as 'methods'. If you hear someone mention methods, they're speaking about classes. Methods are essentially functions, but only callable on the instances of a class.</p>"
   ]
  },
  {
   "cell_type": "markdown",
   "metadata": {},
   "source": [
    "##### Creating"
   ]
  },
  {
   "cell_type": "code",
   "execution_count": null,
   "metadata": {},
   "outputs": [],
   "source": [
    "class Bus():\n",
    "    \"\"\"\n",
    "    The bus will have doors, seats, seats available, color and a bus driver\n",
    "    \n",
    "    Attributes for the class:\n",
    "    -doors: integer\n",
    "    -seats: integer\n",
    "    -seats_available: integer\n",
    "    -color: string\n",
    "    -bus_driver: string\n",
    "    \"\"\"\n",
    "    \n",
    "    def __init__(self, doors, seats, seats_available, color, bus_driver):\n",
    "        self.doors = doors\n",
    "        self.seats = seats\n",
    "        self.seats_available = seats_available\n",
    "        self.color = color\n",
    "        self.bus_driver = bus_driver\n",
    "        \n",
    "    #Decrement the number of seats available based on passengers getting on\n",
    "    def load_passengers(self):\n",
    "        if self.seats_available <= 0:\n",
    "            print(\"This bus is full! You can't take any more passengers.\")\n",
    "            if self.seats_available < 0:\n",
    "                print(f\"You left {abs.self.seats_available} people by the road.\")\n",
    "                self.seats_available = 0\n",
    "        else:\n",
    "            passengers = int(input(\"How many passengers are getting on?\"))\n",
    "            self.seats_available -= passengers\n",
    "            print(f\"{passengers} have boarded the bus and there are {self.seats_available} available.\")\n",
    "    def unload_passengers(self):\n",
    "        if self.seats_available >= self.seats:\n",
    "            print(\"There is no one left on the bus. Go home! Thank you, Bus Driver!\")\n",
    "            self.seats_available = self.seats\n",
    "        else:\n",
    "            unload = int(input(\"How many passengers are getting off the bus?\"))\n",
    "            self.seats_available += unload\n",
    "            if self.seats_available >= self.seats:\n",
    "                self.seats_available = self.seats\n",
    "                print(f\"{unload} passengers have left the bus. There are {self.seats_available} seats available.\")\n",
    "            print(f\"{unload} passengers have left the bus. There are {self.seats_available} seats available.\")\n",
    "    \n",
    "    def change_driver(self):\n",
    "        change = input(\"Who is replacing you?\")\n",
    "        self.bus_driver = change\n",
    "        print(f\"The new bus driver is {self.bus_driver}.\")\n",
    "    \n",
    "    def check_seats(self):\n",
    "        print(f\"You notice there are {self.seats_available} seats available.\")\n",
    "        \n",
    "    def admire_bus(self):\n",
    "        print(f\"Would ya just look at that beautiful {self.color} bus?\")    \n",
    "        \n",
    "miron_bus = Bus(2, 90, 45, \"black\", \"Miron\")\n",
    "              "
   ]
  },
  {
   "cell_type": "markdown",
   "metadata": {},
   "source": [
    "##### Calling"
   ]
  },
  {
   "cell_type": "code",
   "execution_count": null,
   "metadata": {},
   "outputs": [],
   "source": [
    "def run():\n",
    "    while True:\n",
    "        response = input(\"What would you like to do? Load/Unload/Change Driver/Check Seats/Admire/Quit \")\n",
    "        response = response.lower()\n",
    "        if response == \"quit\":\n",
    "            print(\"Oh no! There are still passengers to be picked up! :(\")\n",
    "            break\n",
    "        elif response == \"load\":\n",
    "            miron_bus.load_passengers()\n",
    "        elif response == \"unload\":\n",
    "            miron_bus.unload_passengers()\n",
    "        elif response == \"change driver\":\n",
    "            miron_bus.change_driver()\n",
    "        elif response == \"check seats\":\n",
    "            miron_bus.check_seats()\n",
    "        elif response == \"admire\":\n",
    "            miron_bus.admire_bus()\n",
    "        else:\n",
    "            print(\"You can't do that on my bus! Please enter a valid response.\")\n",
    "            \n",
    "run()"
   ]
  },
  {
   "cell_type": "markdown",
   "metadata": {},
   "source": [
    "##### Modifying an Attribute's Value Through a Method"
   ]
  },
  {
   "cell_type": "code",
   "execution_count": null,
   "metadata": {},
   "outputs": [],
   "source": []
  },
  {
   "cell_type": "markdown",
   "metadata": {},
   "source": [
    "##### Incrementing an Attribute's Value Through a Method"
   ]
  },
  {
   "cell_type": "code",
   "execution_count": null,
   "metadata": {},
   "outputs": [],
   "source": []
  },
  {
   "cell_type": "markdown",
   "metadata": {},
   "source": [
    "##### In-Class Exercise #3 - Add a method that takes in three parameters of year, doors and seats and prints out a formatted print statement with make, model, year, seats, and doors"
   ]
  },
  {
   "cell_type": "code",
   "execution_count": null,
   "metadata": {},
   "outputs": [],
   "source": [
    "# Create a class that has at least 2 parameters in the __init__()\n",
    " \n",
    "\n",
    "# create a method that prints information on the object\n",
    "# create another method that modifies an attribute\n",
    "# Output of print_method: This car is from 2019 and is a Ford Expolorer and has 4 doors and 5 seats\n",
    "\n",
    "class Books():\n",
    "    def __init__(self, author, genre, title):\n",
    "        self.author = author\n",
    "        self.genre = genre\n",
    "        self.title = title\n",
    "    \n",
    "    def myBook(self):\n",
    "        print(f\"My favorite book is {self.title}, which is a {self.genre} book by {self.author}.\")\n",
    "\n",
    "beck_book = Books(\"Tamsyn Muir\", \"Horror/Sci-Fi\", \"Gideon the Ninth\")"
   ]
  },
  {
   "cell_type": "code",
   "execution_count": null,
   "metadata": {},
   "outputs": [],
   "source": [
    "beck_book.myBook()"
   ]
  },
  {
   "cell_type": "markdown",
   "metadata": {},
   "source": [
    "## Inheritance <br>\n",
    "<p>You can create a child-parent relationship between two classes by using inheritance. What this allows you to do is have overriding methods, but also inherit traits from the parent class. Think of it as an actual parent and child, the child will inherit the parent's genes, as will the classes in OOP</p>"
   ]
  },
  {
   "cell_type": "markdown",
   "metadata": {},
   "source": [
    "##### Syntax for Inheriting from a Parent Class"
   ]
  },
  {
   "cell_type": "code",
   "execution_count": null,
   "metadata": {},
   "outputs": [],
   "source": [
    "# Create our parent class = Animal\n",
    "class Animal():\n",
    "    ACCELERATION = 9.8\n",
    "    \n",
    "    def __init__(self, name, species, legs=4):\n",
    "        self.name = name.title()\n",
    "        self.species = species\n",
    "        self.legs = legs\n",
    "        \n",
    "    # Generic parent method\n",
    "    def makeSound(self):\n",
    "        print(\"REEEEEEEEEEEEEEEEEEEEEE\")\n",
    "\n",
    "#Creation of our child class - Dog\n",
    "class Dog(Animal):\n",
    "    SPEED = 15\n",
    "    \n",
    "    def printInfo(self):\n",
    "        print(f\"{self.name} runs at {self.SPEED} mph and accelerates at {self.ACCELERATION} m/2^2.\")\n",
    "        \n",
    "#Creation of our grandchild class = Mutt\n",
    "class Mutt(Dog):\n",
    "    COLOR = \"black and brown\"\n",
    "    \n",
    "    #Override the Animal class __init__ method by way of using the Dog class\n",
    "    def __init__(self, name, species, eye_color, legs=4):\n",
    "        Dog.__init__(self, name, species, legs)\n",
    "        self.eye_color = eye_color\n",
    "        \n",
    "    #Override the makeSound\n",
    "    def makeSound(self):\n",
    "        print(\"ruff ruff ruff\")\n",
    "\n",
    "cheetah = Animal(\"chester\", \"cheetah\")\n",
    "print(cheetah.name)\n",
    "print(cheetah.ACCELERATION)\n",
    "cheetah.makeSound()\n",
    "\n",
    "print(\"\\n\")\n",
    "\n",
    "lassie = Dog(\"Lassie\", \"Dog\")\n",
    "print(lassie.name)\n",
    "print(lassie.species)\n",
    "print(lassie.SPEED)\n",
    "print(lassie.ACCELERATION)\n",
    "lassie.makeSound()\n",
    "print(lassie.legs)\n",
    "lassie.printInfo()\n",
    "print(\"\\n\")\n",
    "\n",
    "athena = Mutt(\"Athena\", \"Dog\", \"brown\")\n",
    "print(athena.name)\n",
    "print(athena.SPEED)\n",
    "print(athena.ACCELERATION)\n",
    "print(athena.eye_color)\n",
    "athena.makeSound()\n",
    "athena.printInfo()\n",
    "\n",
    "#print(cheetah.eye_color) <-- Parent classes cannot access new attributes from child classes\n",
    "#print(lassie.eye_color) <-- Parent classes cannot access new attributes from child classes\n",
    "\n"
   ]
  },
  {
   "cell_type": "markdown",
   "metadata": {},
   "source": [
    "##### The \\__init\\__() Method for a Child Class - super()"
   ]
  },
  {
   "cell_type": "code",
   "execution_count": null,
   "metadata": {
    "scrolled": true
   },
   "outputs": [],
   "source": [
    "class Mutt(Dog):\n",
    "    COLOR = \"black and brown\"\n",
    "    \n",
    "    #pulling in parent attributes via the super().__init__()\n",
    "    def __init__(self, name, species, eye_color, legs = 4):\n",
    "        super().__init__(name, species, legs)\n",
    "        self.eye_color = eye_color\n",
    "        # super will reference the Parent class that the child class takes in\n",
    "    \n",
    "    def makeSound(self):\n",
    "        print(\"awooooooooooooooooooooooooo\")\n",
    "        \n",
    "Franny = Mutt(\"Franny\", \"Labradoodle\", \"brown\")\n",
    "\n",
    "print(Franny.name)\n",
    "print(Franny.species)\n",
    "print(Franny.eye_color)\n",
    "        "
   ]
  },
  {
   "cell_type": "markdown",
   "metadata": {},
   "source": [
    "##### Defining Attributes and Methods for the Child Class"
   ]
  },
  {
   "cell_type": "code",
   "execution_count": null,
   "metadata": {},
   "outputs": [],
   "source": [
    "# See Above"
   ]
  },
  {
   "cell_type": "markdown",
   "metadata": {},
   "source": [
    "##### Method Overriding"
   ]
  },
  {
   "cell_type": "code",
   "execution_count": null,
   "metadata": {},
   "outputs": [],
   "source": [
    "# See Above"
   ]
  },
  {
   "cell_type": "markdown",
   "metadata": {},
   "source": [
    "## Classes as Attributes <br>\n",
    "<p>Classes can also be used as attributes within another class. This is useful in situations where you need to keep variables locally stored, instead of globally stored.</p>"
   ]
  },
  {
   "cell_type": "code",
   "execution_count": null,
   "metadata": {},
   "outputs": [],
   "source": [
    "class Battery():\n",
    "    VOLTZ = 7.8\n",
    "    \n",
    "    def __init__(self, cells):\n",
    "        self.cells = cells\n",
    "        \n",
    "class Car():\n",
    "    def __init__(self, year, make, model, battery):\n",
    "        self.year = year\n",
    "        self.make = make\n",
    "        self.model = model\n",
    "        self.battery = battery\n",
    "        \n",
    "    def printInfo(self):\n",
    "        return f\"{self.year} {self.make} {self.model} {self.battery.cells}\"\n",
    "            \n",
    "battery = Battery(20)\n",
    "\n",
    "tesla_model_S_plaid = Car(2022, \"Tesla\", \"Model S\", battery)\n",
    "\n",
    "tesla_model_S_plaid.printInfo()"
   ]
  },
  {
   "cell_type": "markdown",
   "metadata": {},
   "source": [
    "# Exercises"
   ]
  },
  {
   "cell_type": "markdown",
   "metadata": {},
   "source": [
    "### Exercise 1 - Turn the shopping cart program from yesterday into an object-oriented program\n",
    "\n",
    "The comments in the cell below are there as a guide for thinking about the problem. However, if you feel a different way is best for you and your own thought process, please do what feels best for you by all means."
   ]
  },
  {
   "cell_type": "code",
   "execution_count": 2,
   "metadata": {},
   "outputs": [
    {
     "name": "stdout",
     "output_type": "stream",
     "text": [
      "What would you like to do? Add/Remove/Show/Quit Add\n",
      "What would you like to add? Eggs\n",
      "What would you like to do? Add/Remove/Show/Quit Add\n",
      "What would you like to add? add\n",
      "What would you like to do? Add/Remove/Show/Quit bread\n",
      "Not an option, goose!\n",
      "What would you like to do? Add/Remove/Show/Quit add\n",
      "What would you like to add? cheetos\n",
      "What would you like to do? Add/Remove/Show/Quit add\n",
      "What would you like to add? oreos\n",
      "What would you like to do? Add/Remove/Show/Quit show\n",
      "Here is your current cart:\n",
      "Eggs\n",
      "add\n",
      "cheetos\n",
      "oreos\n",
      "What would you like to do? Add/Remove/Show/Quit remove\n",
      "Eggs\n",
      "add\n",
      "cheetos\n",
      "oreos\n",
      "What would you like to remove? add\n",
      "What would you like to do? Add/Remove/Show/Quit show\n",
      "Here is your current cart:\n",
      "Eggs\n",
      "cheetos\n",
      "oreos\n",
      "What would you like to do? Add/Remove/Show/Quit quit\n",
      "Here is your final list:\n",
      "Eggs\n",
      "cheetos\n",
      "oreos\n",
      "Thanks for shopping!\n"
     ]
    }
   ],
   "source": [
    "# Create a class called cart that retains items and has methods to add, remove, and show\n",
    "\n",
    "class Cart():\n",
    "    def __init__(self):\n",
    "        self.items = []\n",
    "        \n",
    "    def add_item(self):\n",
    "        new_item = input(\"What would you like to add? \")\n",
    "        self.items.append(new_item)\n",
    "    \n",
    "    def remove_item(self):\n",
    "        if len(self.items) == 0:\n",
    "            print(\"There are no items in your cart. Add some stuff! Maybe some Oreos idk.\")\n",
    "        else:\n",
    "            for i in self.items:\n",
    "                print(i)\n",
    "            remove = input(\"What would you like to remove? \")\n",
    "            self.items.remove(remove)\n",
    "    \n",
    "    def show_item(self):\n",
    "        print(\"Here is your current cart:\")\n",
    "        for i in self.items:\n",
    "            print(i)\n",
    "    \n",
    "    def quit(self):\n",
    "        if len(self.items) == 0:\n",
    "            print(\"Buy something next time! Geez, I got a family to support.\")\n",
    "        else:\n",
    "            print(\"Here is your final list:\")\n",
    "            for i in self.items:\n",
    "                print(i)\n",
    "            print(\"Thanks for shopping!\")\n",
    "        \n",
    "class Shopping:\n",
    "    \n",
    "    def run():\n",
    "        my_cart = Cart()\n",
    "        \n",
    "        while True:\n",
    "            choice = input(\"What would you like to do? Add/Remove/Show/Quit \")\n",
    "            choice = choice.lower()\n",
    "            if choice == \"add\":\n",
    "                    my_cart.add_item()\n",
    "            elif choice == \"remove\":\n",
    "                my_cart.remove_item()\n",
    "            elif choice == \"show\":\n",
    "                my_cart.show_item()\n",
    "            elif choice == \"quit\":\n",
    "                my_cart.quit()\n",
    "                break\n",
    "            else:\n",
    "                print(\"Not an option, goose!\")\n",
    "                \n",
    "Shopping.run()\n",
    "            \n",
    "        \n",
    "    "
   ]
  },
  {
   "cell_type": "markdown",
   "metadata": {},
   "source": [
    "### Exercise 2 - Write a Python class which has two methods get_String and print_String. get_String accept a string from the user and print_String print the string in upper case"
   ]
  },
  {
   "cell_type": "code",
   "execution_count": 11,
   "metadata": {},
   "outputs": [
    {
     "name": "stdout",
     "output_type": "stream",
     "text": [
      "What's your favorite color? yellow\n",
      "YELLOW\n"
     ]
    }
   ],
   "source": [
    "class Strings:\n",
    "    \n",
    "    def __init__(self):\n",
    "        self.string_ = input(\"What's your favorite color? \")\n",
    "    \n",
    "    def getString(self):\n",
    "        self.string_ = self.string_.upper()\n",
    "        \n",
    "    def printString(self):\n",
    "        self.getString()\n",
    "        print(self.string_)\n",
    "\n",
    "something = Strings()\n",
    "\n",
    "something.printString()\n",
    "    \n",
    " "
   ]
  }
 ],
 "metadata": {
  "kernelspec": {
   "display_name": "Python 3 (ipykernel)",
   "language": "python",
   "name": "python3"
  },
  "language_info": {
   "codemirror_mode": {
    "name": "ipython",
    "version": 3
   },
   "file_extension": ".py",
   "mimetype": "text/x-python",
   "name": "python",
   "nbconvert_exporter": "python",
   "pygments_lexer": "ipython3",
   "version": "3.10.5"
  }
 },
 "nbformat": 4,
 "nbformat_minor": 2
}
